{
 "cells": [
  {
   "cell_type": "markdown",
   "id": "3daf44f0",
   "metadata": {
    "deletable": false
   },
   "source": [
    "# [Introduction to Data Science](http://datascience-intro.github.io/1MS041-2024/)    \n",
    "## 1MS041, 2024 \n",
    "&copy;2024 Raazesh Sainudiin, Benny Avelin. [Attribution 4.0 International     (CC BY 4.0)](https://creativecommons.org/licenses/by/4.0/)"
   ]
  },
  {
   "cell_type": "code",
   "execution_count": null,
   "id": "41d25c11",
   "metadata": {},
   "outputs": [],
   "source": [
    "generator = lambda size,seed: [randint(1,10000) for x in range(size)]\n",
    "uniform_result = problem4_uniform(generator=generator,period=10000,size=1000)\n",
    "\n",
    "from Utils import makeEMF,makeEDF\n",
    "\n",
    "edf = makeEDF(uniform_result)\n",
    "\n",
    "true_edf = edf[:,0]\n",
    "deviation = np.linalg.norm(edf[:,1]-true_edf)\n",
    "from Utils import plotEDF\n",
    "plotEDF(edf,force_display=False,color='r',points_at_jump=False)"
   ]
  }
 ],
 "metadata": {
  "celltoolbar": "Edit Metadata",
  "kernelspec": {
   "display_name": "Python 3 (ipykernel)",
   "language": "python",
   "name": "python3"
  },
  "language_info": {
   "codemirror_mode": {
    "name": "ipython",
    "version": 3
   },
   "file_extension": ".py",
   "mimetype": "text/x-python",
   "name": "python",
   "nbconvert_exporter": "python",
   "pygments_lexer": "ipython3",
   "version": "3.11.9"
  },
  "lx_course_instance": "2024",
  "lx_course_name": "Introduction to Data Science",
  "lx_course_number": "1MS041"
 },
 "nbformat": 4,
 "nbformat_minor": 5
}
